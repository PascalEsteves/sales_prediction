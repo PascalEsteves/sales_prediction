{
 "cells": [
  {
   "cell_type": "code",
   "execution_count": 1,
   "id": "a436aa60-2d7f-445c-bd92-659932261e5e",
   "metadata": {},
   "outputs": [],
   "source": [
    "import pandas as pd\n",
    "import numpy as np\n",
    "from sklearn.model_selection import RandomizedSearchCV\n",
    "from sklearn.ensemble import RandomForestRegressor\n",
    "from sklearn.cluster import KMeans\n",
    "from sklearn.metrics import silhouette_score\n",
    "import matplotlib.pyplot as plt\n",
    "import warnings\n",
    "warnings.filterwarnings(\"ignore\")\n",
    "pd.set_option('max_columns',None)"
   ]
  },
  {
   "cell_type": "code",
   "execution_count": 2,
   "id": "5c10c54b-4fe9-4838-9a24-eb41937132a6",
   "metadata": {},
   "outputs": [],
   "source": [
    "df = pd.read_csv('sales_train.csv')\n",
    "df_sales = df.copy()\n",
    "df_cat = pd.read_csv('items.csv')\n",
    "df_test = pd.read_csv('test.csv')\n",
    "#df_test = df_test.astype({'shop_id':'category','item_id':'category'})"
   ]
  },
  {
   "cell_type": "code",
   "execution_count": 3,
   "id": "4f5a4461-47a0-423b-a474-ae6fa16e2765",
   "metadata": {},
   "outputs": [],
   "source": [
    "df_sales = pd.merge(df_sales,df_cat[['item_id','item_category_id']], on = ['item_id'])"
   ]
  },
  {
   "cell_type": "code",
   "execution_count": 4,
   "id": "bb016760-3686-4fae-b8af-07d0d8c104ad",
   "metadata": {},
   "outputs": [],
   "source": [
    "# I will drop the date columns, once, that we want to predict the sales in an month and we have some return that can introduce some error to the granularity of the day\n",
    "df.drop(columns=['date'],inplace=True)\n",
    "df_sales.drop(columns=['date'],inplace=True)"
   ]
  },
  {
   "cell_type": "code",
   "execution_count": 5,
   "id": "8cea92a3-f3c0-4d10-99fe-a2dabdfce743",
   "metadata": {},
   "outputs": [],
   "source": [
    "df = df.groupby(['date_block_num','shop_id','item_id'])['item_cnt_day'].sum().reset_index()\n",
    "df_sales=df_sales.groupby(['date_block_num','shop_id','item_category_id'])['item_cnt_day'].sum().reset_index()\n",
    "df.columns=['date_block_num', 'shop_id', 'item_id', 'item_cnt_day']\n",
    "df_sales.columns =['date_block_num', 'shop_id', 'item_category_id', 'item_cnt_day']"
   ]
  },
  {
   "cell_type": "code",
   "execution_count": 6,
   "id": "9cbd57fa-1dba-4a13-9aef-48685c05faa7",
   "metadata": {},
   "outputs": [
    {
     "data": {
      "text/html": [
       "<div><div id=6356c73d-7b5a-4910-b4bd-1bdb66594f49 style=\"display:none; background-color:#9D6CFF; color:white; width:200px; height:30px; padding-left:5px; border-radius:4px; flex-direction:row; justify-content:space-around; align-items:center;\" onmouseover=\"this.style.backgroundColor='#BA9BF8'\" onmouseout=\"this.style.backgroundColor='#9D6CFF'\" onclick=\"window.commands?.execute('create-mitosheet-from-dataframe-output');\">See Full Dataframe in Mito</div> <script> if (window.commands.hasCommand('create-mitosheet-from-dataframe-output')) document.getElementById('6356c73d-7b5a-4910-b4bd-1bdb66594f49').style.display = 'flex' </script> <table border=\"1\" class=\"dataframe\">\n",
       "  <thead>\n",
       "    <tr style=\"text-align: right;\">\n",
       "      <th></th>\n",
       "      <th>date_block_num</th>\n",
       "      <th>shop_id</th>\n",
       "      <th>item_category_id</th>\n",
       "      <th>item_cnt_day</th>\n",
       "    </tr>\n",
       "  </thead>\n",
       "  <tbody>\n",
       "    <tr>\n",
       "      <th>0</th>\n",
       "      <td>0</td>\n",
       "      <td>0</td>\n",
       "      <td>2</td>\n",
       "      <td>53.0</td>\n",
       "    </tr>\n",
       "    <tr>\n",
       "      <th>1</th>\n",
       "      <td>0</td>\n",
       "      <td>0</td>\n",
       "      <td>3</td>\n",
       "      <td>28.0</td>\n",
       "    </tr>\n",
       "    <tr>\n",
       "      <th>2</th>\n",
       "      <td>0</td>\n",
       "      <td>0</td>\n",
       "      <td>4</td>\n",
       "      <td>16.0</td>\n",
       "    </tr>\n",
       "    <tr>\n",
       "      <th>3</th>\n",
       "      <td>0</td>\n",
       "      <td>0</td>\n",
       "      <td>5</td>\n",
       "      <td>28.0</td>\n",
       "    </tr>\n",
       "    <tr>\n",
       "      <th>4</th>\n",
       "      <td>0</td>\n",
       "      <td>0</td>\n",
       "      <td>6</td>\n",
       "      <td>65.0</td>\n",
       "    </tr>\n",
       "  </tbody>\n",
       "</table></div>"
      ],
      "text/plain": [
       "   date_block_num  shop_id  item_category_id  item_cnt_day\n",
       "0               0        0                 2          53.0\n",
       "1               0        0                 3          28.0\n",
       "2               0        0                 4          16.0\n",
       "3               0        0                 5          28.0\n",
       "4               0        0                 6          65.0"
      ]
     },
     "execution_count": 6,
     "metadata": {},
     "output_type": "execute_result"
    }
   ],
   "source": [
    "df_sales.head()"
   ]
  },
  {
   "cell_type": "code",
   "execution_count": 7,
   "id": "b4d38891-30ae-47b5-b914-b80526b32574",
   "metadata": {},
   "outputs": [
    {
     "data": {
      "text/html": [
       "<div><div id=5260729d-83aa-4d14-af9f-cea33a4a51fb style=\"display:none; background-color:#9D6CFF; color:white; width:200px; height:30px; padding-left:5px; border-radius:4px; flex-direction:row; justify-content:space-around; align-items:center;\" onmouseover=\"this.style.backgroundColor='#BA9BF8'\" onmouseout=\"this.style.backgroundColor='#9D6CFF'\" onclick=\"window.commands?.execute('create-mitosheet-from-dataframe-output');\">See Full Dataframe in Mito</div> <script> if (window.commands.hasCommand('create-mitosheet-from-dataframe-output')) document.getElementById('5260729d-83aa-4d14-af9f-cea33a4a51fb').style.display = 'flex' </script> <table border=\"1\" class=\"dataframe\">\n",
       "  <thead>\n",
       "    <tr style=\"text-align: right;\">\n",
       "      <th></th>\n",
       "      <th>date_block_num</th>\n",
       "      <th>shop_id</th>\n",
       "      <th>item_id</th>\n",
       "      <th>item_cnt_day</th>\n",
       "      <th>item_category_id</th>\n",
       "    </tr>\n",
       "  </thead>\n",
       "  <tbody>\n",
       "    <tr>\n",
       "      <th>0</th>\n",
       "      <td>0</td>\n",
       "      <td>0</td>\n",
       "      <td>32</td>\n",
       "      <td>6.0</td>\n",
       "      <td>40</td>\n",
       "    </tr>\n",
       "    <tr>\n",
       "      <th>1</th>\n",
       "      <td>0</td>\n",
       "      <td>1</td>\n",
       "      <td>32</td>\n",
       "      <td>7.0</td>\n",
       "      <td>40</td>\n",
       "    </tr>\n",
       "    <tr>\n",
       "      <th>2</th>\n",
       "      <td>0</td>\n",
       "      <td>3</td>\n",
       "      <td>32</td>\n",
       "      <td>3.0</td>\n",
       "      <td>40</td>\n",
       "    </tr>\n",
       "    <tr>\n",
       "      <th>3</th>\n",
       "      <td>0</td>\n",
       "      <td>4</td>\n",
       "      <td>32</td>\n",
       "      <td>2.0</td>\n",
       "      <td>40</td>\n",
       "    </tr>\n",
       "    <tr>\n",
       "      <th>4</th>\n",
       "      <td>0</td>\n",
       "      <td>6</td>\n",
       "      <td>32</td>\n",
       "      <td>8.0</td>\n",
       "      <td>40</td>\n",
       "    </tr>\n",
       "  </tbody>\n",
       "</table></div>"
      ],
      "text/plain": [
       "   date_block_num  shop_id  item_id  item_cnt_day  item_category_id\n",
       "0               0        0       32           6.0                40\n",
       "1               0        1       32           7.0                40\n",
       "2               0        3       32           3.0                40\n",
       "3               0        4       32           2.0                40\n",
       "4               0        6       32           8.0                40"
      ]
     },
     "execution_count": 7,
     "metadata": {},
     "output_type": "execute_result"
    }
   ],
   "source": [
    "df = pd.merge(df,df_cat[['item_id','item_category_id']], on = ['item_id'])\n",
    "df.head()"
   ]
  },
  {
   "cell_type": "code",
   "execution_count": 8,
   "id": "1f6cedc3-bd5d-4994-a60f-e125098e19df",
   "metadata": {},
   "outputs": [],
   "source": [
    "df_aux_test = pd.merge(df_test,df_cat[['item_id','item_category_id']], on = 'item_id').drop(columns=['item_id'])\n",
    "df_aux_test = df_aux_test.sort_values(by='ID', ascending=True)"
   ]
  },
  {
   "cell_type": "code",
   "execution_count": 9,
   "id": "9c8f989a-c1c4-419d-a80a-6886fbd406f8",
   "metadata": {},
   "outputs": [
    {
     "name": "stderr",
     "output_type": "stream",
     "text": [
      "Note: NumExpr detected 16 cores but \"NUMEXPR_MAX_THREADS\" not set, so enforcing safe limit of 8.\n",
      "NumExpr defaulting to 8 threads.\n"
     ]
    }
   ],
   "source": [
    "pivot_table = pd.pivot_table(df_sales,columns=['date_block_num'], values=['item_cnt_day'], index=['shop_id','item_category_id'], fill_value=0, aggfunc='sum').reset_index()"
   ]
  },
  {
   "cell_type": "code",
   "execution_count": 10,
   "id": "93a23873-7c45-4db6-8eab-c3eb41595e75",
   "metadata": {},
   "outputs": [],
   "source": [
    "pivot_table['sum'] = pivot_table.iloc[:, 23:].sum(axis=1)"
   ]
  },
  {
   "cell_type": "code",
   "execution_count": 11,
   "id": "fd175d77-a1bc-404e-9a42-4ca0e5480719",
   "metadata": {},
   "outputs": [],
   "source": [
    "# Shop's withou activity\n",
    "check_close_shop = pivot_table.groupby('shop_id')['sum'].sum().reset_index()\n",
    "check_close_shop.columns = ['shop_id','sales_12_months']\n",
    "\n",
    "check_close_shop['close'] = 'active'\n",
    "check_close_shop.loc[check_close_shop['sales_12_months']==0,'close'] = 'off'\n",
    "check_close_shop = check_close_shop[check_close_shop['close']=='off']\n",
    "\n",
    "#Check category discontinous \n",
    "\n",
    "check_close_cat = pivot_table.groupby('item_category_id')['sum'].sum().reset_index()\n",
    "check_close_cat.columns = ['item_category_id','sales_12_months']\n",
    "\n",
    "check_close_cat['close'] = 'active'\n",
    "check_close_cat.loc[check_close_cat['sales_12_months']==0,'close'] = 'off'\n",
    "check_close_cat = check_close_cat[check_close_cat['close']=='off']\n"
   ]
  },
  {
   "cell_type": "code",
   "execution_count": 12,
   "id": "f77c9854-bb99-447a-a398-f5c0de39ec36",
   "metadata": {},
   "outputs": [],
   "source": [
    "df_aux_test = df_aux_test[(df_aux_test.item_category_id.isin(check_close_cat.item_category_id)) | (df_aux_test.shop_id.isin(check_close_shop.shop_id))]\n",
    "df_aux_test['pred'] = 0\n",
    "submission_01 = df_aux_test[['ID','pred']]"
   ]
  },
  {
   "cell_type": "code",
   "execution_count": 13,
   "id": "ce73f38d-1d39-4552-9ce8-d0e58caf5fcf",
   "metadata": {},
   "outputs": [],
   "source": [
    "df_test = df_test[~(df_test.ID.isin(submission_01.ID))]"
   ]
  },
  {
   "cell_type": "code",
   "execution_count": 14,
   "id": "745fd03a-4d69-45bd-aff5-4652eba9b926",
   "metadata": {},
   "outputs": [
    {
     "data": {
      "text/html": [
       "<div><div id=fea6cc65-2ae6-4016-ace5-ab1326ac786d style=\"display:none; background-color:#9D6CFF; color:white; width:200px; height:30px; padding-left:5px; border-radius:4px; flex-direction:row; justify-content:space-around; align-items:center;\" onmouseover=\"this.style.backgroundColor='#BA9BF8'\" onmouseout=\"this.style.backgroundColor='#9D6CFF'\" onclick=\"window.commands?.execute('create-mitosheet-from-dataframe-output');\">See Full Dataframe in Mito</div> <script> if (window.commands.hasCommand('create-mitosheet-from-dataframe-output')) document.getElementById('fea6cc65-2ae6-4016-ace5-ab1326ac786d').style.display = 'flex' </script> <table border=\"1\" class=\"dataframe\">\n",
       "  <thead>\n",
       "    <tr style=\"text-align: right;\">\n",
       "      <th></th>\n",
       "      <th>ID</th>\n",
       "      <th>shop_id</th>\n",
       "      <th>item_id</th>\n",
       "      <th>item_category_id</th>\n",
       "    </tr>\n",
       "  </thead>\n",
       "  <tbody>\n",
       "    <tr>\n",
       "      <th>0</th>\n",
       "      <td>0</td>\n",
       "      <td>5</td>\n",
       "      <td>5037</td>\n",
       "      <td>19</td>\n",
       "    </tr>\n",
       "    <tr>\n",
       "      <th>1</th>\n",
       "      <td>5100</td>\n",
       "      <td>4</td>\n",
       "      <td>5037</td>\n",
       "      <td>19</td>\n",
       "    </tr>\n",
       "    <tr>\n",
       "      <th>2</th>\n",
       "      <td>10200</td>\n",
       "      <td>6</td>\n",
       "      <td>5037</td>\n",
       "      <td>19</td>\n",
       "    </tr>\n",
       "    <tr>\n",
       "      <th>3</th>\n",
       "      <td>15300</td>\n",
       "      <td>3</td>\n",
       "      <td>5037</td>\n",
       "      <td>19</td>\n",
       "    </tr>\n",
       "    <tr>\n",
       "      <th>4</th>\n",
       "      <td>20400</td>\n",
       "      <td>2</td>\n",
       "      <td>5037</td>\n",
       "      <td>19</td>\n",
       "    </tr>\n",
       "  </tbody>\n",
       "</table></div>"
      ],
      "text/plain": [
       "      ID  shop_id  item_id  item_category_id\n",
       "0      0        5     5037                19\n",
       "1   5100        4     5037                19\n",
       "2  10200        6     5037                19\n",
       "3  15300        3     5037                19\n",
       "4  20400        2     5037                19"
      ]
     },
     "execution_count": 14,
     "metadata": {},
     "output_type": "execute_result"
    }
   ],
   "source": [
    "df_test =  pd.merge(df_test,df_cat[['item_id','item_category_id']], on = ['item_id'])\n",
    "df_test.head()"
   ]
  },
  {
   "cell_type": "code",
   "execution_count": 15,
   "id": "7caa2819-5774-47ff-97c1-4914d0085b82",
   "metadata": {},
   "outputs": [],
   "source": [
    "pivot_table = pd.pivot_table(df,columns=['date_block_num'], values=['item_cnt_day'], index=['shop_id','item_id','item_category_id'], fill_value=0, aggfunc='sum').reset_index()\n",
    "data = pd.merge(df_test,pivot_table,on = ['item_id','shop_id','item_category_id'],how = 'left').fillna(0)"
   ]
  },
  {
   "cell_type": "code",
   "execution_count": 16,
   "id": "8bd851b2-f3ae-49b1-98a3-553ae6c59f01",
   "metadata": {},
   "outputs": [
    {
     "data": {
      "text/html": [
       "<div><div id=44f6c9a7-136b-47c2-8da0-05d7fb2bd0ff style=\"display:none; background-color:#9D6CFF; color:white; width:200px; height:30px; padding-left:5px; border-radius:4px; flex-direction:row; justify-content:space-around; align-items:center;\" onmouseover=\"this.style.backgroundColor='#BA9BF8'\" onmouseout=\"this.style.backgroundColor='#9D6CFF'\" onclick=\"window.commands?.execute('create-mitosheet-from-dataframe-output');\">See Full Dataframe in Mito</div> <script> if (window.commands.hasCommand('create-mitosheet-from-dataframe-output')) document.getElementById('44f6c9a7-136b-47c2-8da0-05d7fb2bd0ff').style.display = 'flex' </script> <table border=\"1\" class=\"dataframe\">\n",
       "  <thead>\n",
       "    <tr style=\"text-align: right;\">\n",
       "      <th></th>\n",
       "      <th>ID</th>\n",
       "      <th>shop_id</th>\n",
       "      <th>item_id</th>\n",
       "      <th>item_category_id</th>\n",
       "      <th>(item_cnt_day, 0)</th>\n",
       "      <th>(item_cnt_day, 1)</th>\n",
       "      <th>(item_cnt_day, 2)</th>\n",
       "      <th>(item_cnt_day, 3)</th>\n",
       "      <th>(item_cnt_day, 4)</th>\n",
       "      <th>(item_cnt_day, 5)</th>\n",
       "      <th>(item_cnt_day, 6)</th>\n",
       "      <th>(item_cnt_day, 7)</th>\n",
       "      <th>(item_cnt_day, 8)</th>\n",
       "      <th>(item_cnt_day, 9)</th>\n",
       "      <th>(item_cnt_day, 10)</th>\n",
       "      <th>(item_cnt_day, 11)</th>\n",
       "      <th>(item_cnt_day, 12)</th>\n",
       "      <th>(item_cnt_day, 13)</th>\n",
       "      <th>(item_cnt_day, 14)</th>\n",
       "      <th>(item_cnt_day, 15)</th>\n",
       "      <th>(item_cnt_day, 16)</th>\n",
       "      <th>(item_cnt_day, 17)</th>\n",
       "      <th>(item_cnt_day, 18)</th>\n",
       "      <th>(item_cnt_day, 19)</th>\n",
       "      <th>(item_cnt_day, 20)</th>\n",
       "      <th>(item_cnt_day, 21)</th>\n",
       "      <th>(item_cnt_day, 22)</th>\n",
       "      <th>(item_cnt_day, 23)</th>\n",
       "      <th>(item_cnt_day, 24)</th>\n",
       "      <th>(item_cnt_day, 25)</th>\n",
       "      <th>(item_cnt_day, 26)</th>\n",
       "      <th>(item_cnt_day, 27)</th>\n",
       "      <th>(item_cnt_day, 28)</th>\n",
       "      <th>(item_cnt_day, 29)</th>\n",
       "      <th>(item_cnt_day, 30)</th>\n",
       "      <th>(item_cnt_day, 31)</th>\n",
       "      <th>(item_cnt_day, 32)</th>\n",
       "      <th>(item_cnt_day, 33)</th>\n",
       "    </tr>\n",
       "  </thead>\n",
       "  <tbody>\n",
       "    <tr>\n",
       "      <th>0</th>\n",
       "      <td>0</td>\n",
       "      <td>5</td>\n",
       "      <td>5037</td>\n",
       "      <td>19</td>\n",
       "      <td>0.0</td>\n",
       "      <td>0.0</td>\n",
       "      <td>0.0</td>\n",
       "      <td>0.0</td>\n",
       "      <td>0.0</td>\n",
       "      <td>0.0</td>\n",
       "      <td>0.0</td>\n",
       "      <td>0.0</td>\n",
       "      <td>0.0</td>\n",
       "      <td>0.0</td>\n",
       "      <td>0.0</td>\n",
       "      <td>0.0</td>\n",
       "      <td>0.0</td>\n",
       "      <td>0.0</td>\n",
       "      <td>0.0</td>\n",
       "      <td>0.0</td>\n",
       "      <td>0.0</td>\n",
       "      <td>0.0</td>\n",
       "      <td>0.0</td>\n",
       "      <td>0.0</td>\n",
       "      <td>1.0</td>\n",
       "      <td>0.0</td>\n",
       "      <td>1.0</td>\n",
       "      <td>2.0</td>\n",
       "      <td>2.0</td>\n",
       "      <td>0.0</td>\n",
       "      <td>0.0</td>\n",
       "      <td>0.0</td>\n",
       "      <td>1.0</td>\n",
       "      <td>1.0</td>\n",
       "      <td>1.0</td>\n",
       "      <td>3.0</td>\n",
       "      <td>1.0</td>\n",
       "      <td>0.0</td>\n",
       "    </tr>\n",
       "    <tr>\n",
       "      <th>1</th>\n",
       "      <td>5100</td>\n",
       "      <td>4</td>\n",
       "      <td>5037</td>\n",
       "      <td>19</td>\n",
       "      <td>0.0</td>\n",
       "      <td>0.0</td>\n",
       "      <td>0.0</td>\n",
       "      <td>0.0</td>\n",
       "      <td>0.0</td>\n",
       "      <td>0.0</td>\n",
       "      <td>0.0</td>\n",
       "      <td>0.0</td>\n",
       "      <td>0.0</td>\n",
       "      <td>0.0</td>\n",
       "      <td>0.0</td>\n",
       "      <td>0.0</td>\n",
       "      <td>0.0</td>\n",
       "      <td>0.0</td>\n",
       "      <td>0.0</td>\n",
       "      <td>0.0</td>\n",
       "      <td>0.0</td>\n",
       "      <td>0.0</td>\n",
       "      <td>0.0</td>\n",
       "      <td>0.0</td>\n",
       "      <td>1.0</td>\n",
       "      <td>0.0</td>\n",
       "      <td>0.0</td>\n",
       "      <td>2.0</td>\n",
       "      <td>0.0</td>\n",
       "      <td>0.0</td>\n",
       "      <td>0.0</td>\n",
       "      <td>0.0</td>\n",
       "      <td>0.0</td>\n",
       "      <td>0.0</td>\n",
       "      <td>0.0</td>\n",
       "      <td>3.0</td>\n",
       "      <td>0.0</td>\n",
       "      <td>0.0</td>\n",
       "    </tr>\n",
       "    <tr>\n",
       "      <th>2</th>\n",
       "      <td>10200</td>\n",
       "      <td>6</td>\n",
       "      <td>5037</td>\n",
       "      <td>19</td>\n",
       "      <td>0.0</td>\n",
       "      <td>0.0</td>\n",
       "      <td>0.0</td>\n",
       "      <td>0.0</td>\n",
       "      <td>0.0</td>\n",
       "      <td>0.0</td>\n",
       "      <td>0.0</td>\n",
       "      <td>0.0</td>\n",
       "      <td>0.0</td>\n",
       "      <td>0.0</td>\n",
       "      <td>0.0</td>\n",
       "      <td>0.0</td>\n",
       "      <td>0.0</td>\n",
       "      <td>0.0</td>\n",
       "      <td>0.0</td>\n",
       "      <td>0.0</td>\n",
       "      <td>0.0</td>\n",
       "      <td>0.0</td>\n",
       "      <td>0.0</td>\n",
       "      <td>0.0</td>\n",
       "      <td>6.0</td>\n",
       "      <td>1.0</td>\n",
       "      <td>4.0</td>\n",
       "      <td>3.0</td>\n",
       "      <td>1.0</td>\n",
       "      <td>0.0</td>\n",
       "      <td>1.0</td>\n",
       "      <td>1.0</td>\n",
       "      <td>2.0</td>\n",
       "      <td>0.0</td>\n",
       "      <td>1.0</td>\n",
       "      <td>1.0</td>\n",
       "      <td>0.0</td>\n",
       "      <td>1.0</td>\n",
       "    </tr>\n",
       "    <tr>\n",
       "      <th>3</th>\n",
       "      <td>15300</td>\n",
       "      <td>3</td>\n",
       "      <td>5037</td>\n",
       "      <td>19</td>\n",
       "      <td>0.0</td>\n",
       "      <td>0.0</td>\n",
       "      <td>0.0</td>\n",
       "      <td>0.0</td>\n",
       "      <td>0.0</td>\n",
       "      <td>0.0</td>\n",
       "      <td>0.0</td>\n",
       "      <td>0.0</td>\n",
       "      <td>0.0</td>\n",
       "      <td>0.0</td>\n",
       "      <td>0.0</td>\n",
       "      <td>0.0</td>\n",
       "      <td>0.0</td>\n",
       "      <td>0.0</td>\n",
       "      <td>0.0</td>\n",
       "      <td>0.0</td>\n",
       "      <td>0.0</td>\n",
       "      <td>0.0</td>\n",
       "      <td>0.0</td>\n",
       "      <td>0.0</td>\n",
       "      <td>6.0</td>\n",
       "      <td>2.0</td>\n",
       "      <td>2.0</td>\n",
       "      <td>4.0</td>\n",
       "      <td>1.0</td>\n",
       "      <td>0.0</td>\n",
       "      <td>1.0</td>\n",
       "      <td>0.0</td>\n",
       "      <td>1.0</td>\n",
       "      <td>3.0</td>\n",
       "      <td>0.0</td>\n",
       "      <td>0.0</td>\n",
       "      <td>0.0</td>\n",
       "      <td>0.0</td>\n",
       "    </tr>\n",
       "    <tr>\n",
       "      <th>4</th>\n",
       "      <td>20400</td>\n",
       "      <td>2</td>\n",
       "      <td>5037</td>\n",
       "      <td>19</td>\n",
       "      <td>0.0</td>\n",
       "      <td>0.0</td>\n",
       "      <td>0.0</td>\n",
       "      <td>0.0</td>\n",
       "      <td>0.0</td>\n",
       "      <td>0.0</td>\n",
       "      <td>0.0</td>\n",
       "      <td>0.0</td>\n",
       "      <td>0.0</td>\n",
       "      <td>0.0</td>\n",
       "      <td>0.0</td>\n",
       "      <td>0.0</td>\n",
       "      <td>0.0</td>\n",
       "      <td>0.0</td>\n",
       "      <td>0.0</td>\n",
       "      <td>0.0</td>\n",
       "      <td>0.0</td>\n",
       "      <td>0.0</td>\n",
       "      <td>0.0</td>\n",
       "      <td>0.0</td>\n",
       "      <td>0.0</td>\n",
       "      <td>1.0</td>\n",
       "      <td>0.0</td>\n",
       "      <td>4.0</td>\n",
       "      <td>2.0</td>\n",
       "      <td>1.0</td>\n",
       "      <td>1.0</td>\n",
       "      <td>0.0</td>\n",
       "      <td>0.0</td>\n",
       "      <td>0.0</td>\n",
       "      <td>2.0</td>\n",
       "      <td>1.0</td>\n",
       "      <td>1.0</td>\n",
       "      <td>0.0</td>\n",
       "    </tr>\n",
       "  </tbody>\n",
       "</table></div>"
      ],
      "text/plain": [
       "      ID  shop_id  item_id  item_category_id  (item_cnt_day, 0)  \\\n",
       "0      0        5     5037                19                0.0   \n",
       "1   5100        4     5037                19                0.0   \n",
       "2  10200        6     5037                19                0.0   \n",
       "3  15300        3     5037                19                0.0   \n",
       "4  20400        2     5037                19                0.0   \n",
       "\n",
       "   (item_cnt_day, 1)  (item_cnt_day, 2)  (item_cnt_day, 3)  (item_cnt_day, 4)  \\\n",
       "0                0.0                0.0                0.0                0.0   \n",
       "1                0.0                0.0                0.0                0.0   \n",
       "2                0.0                0.0                0.0                0.0   \n",
       "3                0.0                0.0                0.0                0.0   \n",
       "4                0.0                0.0                0.0                0.0   \n",
       "\n",
       "   (item_cnt_day, 5)  (item_cnt_day, 6)  (item_cnt_day, 7)  (item_cnt_day, 8)  \\\n",
       "0                0.0                0.0                0.0                0.0   \n",
       "1                0.0                0.0                0.0                0.0   \n",
       "2                0.0                0.0                0.0                0.0   \n",
       "3                0.0                0.0                0.0                0.0   \n",
       "4                0.0                0.0                0.0                0.0   \n",
       "\n",
       "   (item_cnt_day, 9)  (item_cnt_day, 10)  (item_cnt_day, 11)  \\\n",
       "0                0.0                 0.0                 0.0   \n",
       "1                0.0                 0.0                 0.0   \n",
       "2                0.0                 0.0                 0.0   \n",
       "3                0.0                 0.0                 0.0   \n",
       "4                0.0                 0.0                 0.0   \n",
       "\n",
       "   (item_cnt_day, 12)  (item_cnt_day, 13)  (item_cnt_day, 14)  \\\n",
       "0                 0.0                 0.0                 0.0   \n",
       "1                 0.0                 0.0                 0.0   \n",
       "2                 0.0                 0.0                 0.0   \n",
       "3                 0.0                 0.0                 0.0   \n",
       "4                 0.0                 0.0                 0.0   \n",
       "\n",
       "   (item_cnt_day, 15)  (item_cnt_day, 16)  (item_cnt_day, 17)  \\\n",
       "0                 0.0                 0.0                 0.0   \n",
       "1                 0.0                 0.0                 0.0   \n",
       "2                 0.0                 0.0                 0.0   \n",
       "3                 0.0                 0.0                 0.0   \n",
       "4                 0.0                 0.0                 0.0   \n",
       "\n",
       "   (item_cnt_day, 18)  (item_cnt_day, 19)  (item_cnt_day, 20)  \\\n",
       "0                 0.0                 0.0                 1.0   \n",
       "1                 0.0                 0.0                 1.0   \n",
       "2                 0.0                 0.0                 6.0   \n",
       "3                 0.0                 0.0                 6.0   \n",
       "4                 0.0                 0.0                 0.0   \n",
       "\n",
       "   (item_cnt_day, 21)  (item_cnt_day, 22)  (item_cnt_day, 23)  \\\n",
       "0                 0.0                 1.0                 2.0   \n",
       "1                 0.0                 0.0                 2.0   \n",
       "2                 1.0                 4.0                 3.0   \n",
       "3                 2.0                 2.0                 4.0   \n",
       "4                 1.0                 0.0                 4.0   \n",
       "\n",
       "   (item_cnt_day, 24)  (item_cnt_day, 25)  (item_cnt_day, 26)  \\\n",
       "0                 2.0                 0.0                 0.0   \n",
       "1                 0.0                 0.0                 0.0   \n",
       "2                 1.0                 0.0                 1.0   \n",
       "3                 1.0                 0.0                 1.0   \n",
       "4                 2.0                 1.0                 1.0   \n",
       "\n",
       "   (item_cnt_day, 27)  (item_cnt_day, 28)  (item_cnt_day, 29)  \\\n",
       "0                 0.0                 1.0                 1.0   \n",
       "1                 0.0                 0.0                 0.0   \n",
       "2                 1.0                 2.0                 0.0   \n",
       "3                 0.0                 1.0                 3.0   \n",
       "4                 0.0                 0.0                 0.0   \n",
       "\n",
       "   (item_cnt_day, 30)  (item_cnt_day, 31)  (item_cnt_day, 32)  \\\n",
       "0                 1.0                 3.0                 1.0   \n",
       "1                 0.0                 3.0                 0.0   \n",
       "2                 1.0                 1.0                 0.0   \n",
       "3                 0.0                 0.0                 0.0   \n",
       "4                 2.0                 1.0                 1.0   \n",
       "\n",
       "   (item_cnt_day, 33)  \n",
       "0                 0.0  \n",
       "1                 0.0  \n",
       "2                 1.0  \n",
       "3                 0.0  \n",
       "4                 0.0  "
      ]
     },
     "execution_count": 16,
     "metadata": {},
     "output_type": "execute_result"
    }
   ],
   "source": [
    "data.head()"
   ]
  },
  {
   "cell_type": "code",
   "execution_count": 17,
   "id": "1ffc3a0d-d246-47d2-8f7c-c1e1f306592d",
   "metadata": {},
   "outputs": [],
   "source": [
    "data['sum'] = data.iloc[:,24:].sum(axis=1)\n",
    "\n",
    "data['sum_cat']= data.groupby('item_category_id')['sum'].transform('sum')\n",
    "\n",
    "data['sum_item']= data.groupby('item_id')['sum'].transform('sum')"
   ]
  },
  {
   "cell_type": "code",
   "execution_count": 18,
   "id": "78ace4cb-b6aa-4be0-aa90-5bb276a6d4e5",
   "metadata": {},
   "outputs": [],
   "source": [
    "def check_number_cluster(X):\n",
    "    wscc = []\n",
    "    \n",
    "    for i in range(1,10):\n",
    "        kmeans = KMeans(n_clusters=i, init='k-means++',max_iter = 300,n_init = 10, random_state=42)\n",
    "        kmeans.fit(X)\n",
    "        wscc.append(kmeans.inertia_)\n",
    "    return wscc"
   ]
  },
  {
   "cell_type": "code",
   "execution_count": 19,
   "id": "644bed2a-6238-40d1-a8c8-13d4313846fa",
   "metadata": {},
   "outputs": [
    {
     "data": {
      "text/plain": [
       "[<matplotlib.lines.Line2D at 0x1c314dc0d30>]"
      ]
     },
     "execution_count": 19,
     "metadata": {},
     "output_type": "execute_result"
    },
    {
     "data": {
      "image/png": "[encoded data removed]",
      "text/plain": [
       "<Figure size 432x288 with 1 Axes>"
      ]
     },
     "metadata": {
      "needs_background": "light"
     },
     "output_type": "display_data"
    }
   ],
   "source": [
    "wscc = check_number_cluster(data[['sum_cat']])\n",
    "plt.plot(range(1,10),wscc)"
   ]
  },
  {
   "cell_type": "code",
   "execution_count": 20,
   "id": "f3f24b01-e587-4367-a5be-1daced0b745a",
   "metadata": {},
   "outputs": [
    {
     "data": {
      "text/plain": [
       "[<matplotlib.lines.Line2D at 0x1c305a50e80>]"
      ]
     },
     "execution_count": 20,
     "metadata": {},
     "output_type": "execute_result"
    },
    {
     "data": {
      "image/png": "[encoded data removed]",
      "text/plain": [
       "<Figure size 432x288 with 1 Axes>"
      ]
     },
     "metadata": {
      "needs_background": "light"
     },
     "output_type": "display_data"
    }
   ],
   "source": [
    "wscc = check_number_cluster(data[['sum_item']])\n",
    "plt.plot(range(1,10),wscc)"
   ]
  },
  {
   "cell_type": "code",
   "execution_count": 21,
   "id": "551993b7-a232-482d-bb24-98e8eb51798a",
   "metadata": {},
   "outputs": [],
   "source": [
    "def _cluster_data(df,name):\n",
    "    if name == 'sum_cat':\n",
    "        kmeans = KMeans(n_clusters=3)\n",
    "        kmeans.fit(df[[name]])\n",
    "        name_cluster= name+'Cluster'\n",
    "        df[name_cluster]= kmeans.predict(df[[name]])\n",
    "        return df\n",
    "    else:\n",
    "        kmeans = KMeans(n_clusters=4)\n",
    "        kmeans.fit(df[[name]])\n",
    "        name_cluster= name+'Cluster'\n",
    "        df[name_cluster]= kmeans.predict(df[[name]])\n",
    "        return df\n",
    "\n",
    "def order_cluster(cluster_field_name, target_field_name,df,ascending):\n",
    "    \n",
    "    new_cluster_field_name = 'new_' + cluster_field_name\n",
    "    df_new = df.groupby(cluster_field_name)[target_field_name].mean().reset_index()\n",
    "    df_new = df_new.sort_values(by=target_field_name,ascending=ascending).reset_index(drop=True)\n",
    "    df_new['index'] = df_new.index\n",
    "    df_final = pd.merge(df,df_new[[cluster_field_name,'index']], on=cluster_field_name)\n",
    "    df_final = df_final.drop([cluster_field_name],axis=1)\n",
    "    df_final = df_final.rename(columns={\"index\":cluster_field_name})\n",
    "    \n",
    "    return df_final"
   ]
  },
  {
   "cell_type": "code",
   "execution_count": 22,
   "id": "65907b80-6de1-4587-897c-408fa51761bf",
   "metadata": {},
   "outputs": [],
   "source": [
    "\"\"\"in order to have shop diveded by class's , like 'champion shop', 'High shop', 'Medium shop' and 'Low shop' \n",
    "i decide to make a cluster by number of sales by shop\"\"\"\n",
    "\n",
    "data=_cluster_data(data,'sum_cat')\n",
    "data = order_cluster('sum_catCluster', 'sum_cat',data,True)\n",
    "\n",
    "data=_cluster_data(data,'sum_item')\n",
    "data = order_cluster('sum_itemCluster', 'sum_item',data,True)"
   ]
  },
  {
   "cell_type": "code",
   "execution_count": 23,
   "id": "c0758671-51d7-4d3a-9eb0-ca4552125e9c",
   "metadata": {},
   "outputs": [
    {
     "data": {
      "text/html": [
       "<div><div id=a53aaa6f-5d52-44a8-9049-15f3d4c0b1ad style=\"display:none; background-color:#9D6CFF; color:white; width:200px; height:30px; padding-left:5px; border-radius:4px; flex-direction:row; justify-content:space-around; align-items:center;\" onmouseover=\"this.style.backgroundColor='#BA9BF8'\" onmouseout=\"this.style.backgroundColor='#9D6CFF'\" onclick=\"window.commands?.execute('create-mitosheet-from-dataframe-output');\">See Full Dataframe in Mito</div> <script> if (window.commands.hasCommand('create-mitosheet-from-dataframe-output')) document.getElementById('a53aaa6f-5d52-44a8-9049-15f3d4c0b1ad').style.display = 'flex' </script> <table border=\"1\" class=\"dataframe\">\n",
       "  <thead>\n",
       "    <tr style=\"text-align: right;\">\n",
       "      <th></th>\n",
       "      <th>mean</th>\n",
       "      <th>count</th>\n",
       "    </tr>\n",
       "    <tr>\n",
       "      <th>sum_itemCluster</th>\n",
       "      <th></th>\n",
       "      <th></th>\n",
       "    </tr>\n",
       "  </thead>\n",
       "  <tbody>\n",
       "    <tr>\n",
       "      <th>0</th>\n",
       "      <td>90.492955</td>\n",
       "      <td>202692</td>\n",
       "    </tr>\n",
       "    <tr>\n",
       "      <th>1</th>\n",
       "      <td>1065.035156</td>\n",
       "      <td>10752</td>\n",
       "    </tr>\n",
       "    <tr>\n",
       "      <th>2</th>\n",
       "      <td>5074.250000</td>\n",
       "      <td>672</td>\n",
       "    </tr>\n",
       "    <tr>\n",
       "      <th>3</th>\n",
       "      <td>62078.000000</td>\n",
       "      <td>42</td>\n",
       "    </tr>\n",
       "  </tbody>\n",
       "</table></div>"
      ],
      "text/plain": [
       "                         mean   count\n",
       "sum_itemCluster                      \n",
       "0                   90.492955  202692\n",
       "1                 1065.035156   10752\n",
       "2                 5074.250000     672\n",
       "3                62078.000000      42"
      ]
     },
     "execution_count": 23,
     "metadata": {},
     "output_type": "execute_result"
    }
   ],
   "source": [
    "data.groupby('sum_itemCluster')['sum_item'].agg(['mean','count'])"
   ]
  },
  {
   "cell_type": "code",
   "execution_count": 24,
   "id": "5639dd52-c0d3-4bcd-8e1e-d9c3e058a243",
   "metadata": {},
   "outputs": [
    {
     "data": {
      "text/html": [
       "<div><div id=058b747a-a666-4f18-88bf-57148cc1aa35 style=\"display:none; background-color:#9D6CFF; color:white; width:200px; height:30px; padding-left:5px; border-radius:4px; flex-direction:row; justify-content:space-around; align-items:center;\" onmouseover=\"this.style.backgroundColor='#BA9BF8'\" onmouseout=\"this.style.backgroundColor='#9D6CFF'\" onclick=\"window.commands?.execute('create-mitosheet-from-dataframe-output');\">See Full Dataframe in Mito</div> <script> if (window.commands.hasCommand('create-mitosheet-from-dataframe-output')) document.getElementById('058b747a-a666-4f18-88bf-57148cc1aa35').style.display = 'flex' </script> <table border=\"1\" class=\"dataframe\">\n",
       "  <thead>\n",
       "    <tr style=\"text-align: right;\">\n",
       "      <th></th>\n",
       "      <th>mean</th>\n",
       "      <th>count</th>\n",
       "    </tr>\n",
       "    <tr>\n",
       "      <th>sum_catCluster</th>\n",
       "      <th></th>\n",
       "      <th></th>\n",
       "    </tr>\n",
       "  </thead>\n",
       "  <tbody>\n",
       "    <tr>\n",
       "      <th>0</th>\n",
       "      <td>8130.648049</td>\n",
       "      <td>109788</td>\n",
       "    </tr>\n",
       "    <tr>\n",
       "      <th>1</th>\n",
       "      <td>36264.483745</td>\n",
       "      <td>32298</td>\n",
       "    </tr>\n",
       "    <tr>\n",
       "      <th>2</th>\n",
       "      <td>83711.790210</td>\n",
       "      <td>72072</td>\n",
       "    </tr>\n",
       "  </tbody>\n",
       "</table></div>"
      ],
      "text/plain": [
       "                        mean   count\n",
       "sum_catCluster                      \n",
       "0                8130.648049  109788\n",
       "1               36264.483745   32298\n",
       "2               83711.790210   72072"
      ]
     },
     "execution_count": 24,
     "metadata": {},
     "output_type": "execute_result"
    }
   ],
   "source": [
    "data.groupby('sum_catCluster')['sum_cat'].agg(['mean','count'])"
   ]
  },
  {
   "cell_type": "code",
   "execution_count": 25,
   "id": "745c3651-ff15-48e1-9267-ab9bacc299cf",
   "metadata": {},
   "outputs": [],
   "source": [
    "data['item_id'] = data['sum_itemCluster']\n",
    "data['item_category_id'] = data['sum_catCluster']\n",
    "\n",
    "data.drop(columns=['sum','sum_cat','sum_item','sum_catCluster','sum_itemCluster'], inplace=True)"
   ]
  },
  {
   "cell_type": "code",
   "execution_count": 26,
   "id": "6039ff0e-60ec-4e24-bbf8-86f9007c90c2",
   "metadata": {},
   "outputs": [],
   "source": [
    "def model_selection(X_train,y_train):\n",
    "\n",
    "    n_estimators=[50,100,150,200]\n",
    "    max_features=['auto', 'sqrt', 'log2']\n",
    "    max_depth = [5,10,20,30,40,50]\n",
    "    max_depth.append(None)\n",
    "    min_samples_split = [2,5,10,15,20]\n",
    "    min_samples_leaf = [1,2,5,10,15]\n",
    "\n",
    "    grid_param = {'n_estimators':n_estimators,\n",
    "                  'max_features':max_features,\n",
    "                  'max_depth':max_depth,\n",
    "                  'min_samples_split':min_samples_split,\n",
    "                  'min_samples_leaf':min_samples_leaf}\n",
    "\n",
    "    RF_model = RandomForestRegressor()\n",
    "    RF_model_random = RandomizedSearchCV(estimator = RF_model,\n",
    "                                    param_distributions = grid_param, n_iter=5,\n",
    "                                    cv=5, verbose=2, random_state=42,\n",
    "                                    n_jobs=-1)\n",
    "\n",
    "    RF_model_optimized= RF_model_random.fit(X_train,y_train)\n",
    "\n",
    "    model = RF_model_optimized.best_estimator_\n",
    "    _ = model.fit(X_train,y_train)\n",
    "    return model"
   ]
  },
  {
   "cell_type": "code",
   "execution_count": 27,
   "id": "20a94dbc-47bc-4816-be86-3e4d744f6e66",
   "metadata": {},
   "outputs": [
    {
     "name": "stdout",
     "output_type": "stream",
     "text": [
      "Fitting 5 folds for each of 5 candidates, totalling 25 fits\n"
     ]
    }
   ],
   "source": [
    "#Select, train and made predictions \n",
    "\n",
    "X_train = data.iloc[:,2:-1]\n",
    "y_train = data.iloc[:,-1]\n",
    "\n",
    "model = model_selection(X_train,y_train)\n",
    "\n",
    "X_teste = data.drop(columns=[('item_cnt_day', 0)])\n",
    "#data['pred']= model.predict(X_teste.iloc[:,2:])"
   ]
  },
  {
   "cell_type": "code",
   "execution_count": 33,
   "id": "c729ab36-7f86-4a02-91ea-9f8e5ee0d05b",
   "metadata": {},
   "outputs": [],
   "source": [
    "y_pred = pd.Series(model.predict(X_train))"
   ]
  },
  {
   "cell_type": "code",
   "execution_count": 36,
   "id": "f2388531-63c7-4d33-8d23-2b74c14c7c18",
   "metadata": {},
   "outputs": [],
   "source": [
    "erro = y_train - y_pred"
   ]
  },
  {
   "cell_type": "code",
   "execution_count": 47,
   "id": "81010326-7514-4f5c-9a9a-860a4026a0cb",
   "metadata": {},
   "outputs": [
    {
     "name": "stdout",
     "output_type": "stream",
     "text": [
      "Fitting 5 folds for each of 5 candidates, totalling 25 fits\n"
     ]
    }
   ],
   "source": [
    "rf_model_erro = model_selection(X_train,erro)"
   ]
  },
  {
   "cell_type": "code",
   "execution_count": 48,
   "id": "917897c7-35a9-4505-a69c-ccc94ee7dbc0",
   "metadata": {},
   "outputs": [],
   "source": [
    "data['pred_aux']= pd.Series(model.predict(X_teste.iloc[:,2:]))\n",
    "data['err_aux'] = pd.Series(rf_model_erro.predict(X_teste.iloc[:,2:]))\n",
    "data['pred'] = data['pred_aux']-data['err_aux']"
   ]
  },
  {
   "cell_type": "code",
   "execution_count": 49,
   "id": "447b6601-48e3-4457-b716-eeef2ad7e7d2",
   "metadata": {},
   "outputs": [],
   "source": [
    "submission_02 = data[['ID','pred']]"
   ]
  },
  {
   "cell_type": "code",
   "execution_count": 50,
   "id": "296d4060-8245-4fb0-8dff-dab63fa864df",
   "metadata": {},
   "outputs": [],
   "source": [
    "submission = pd.concat([submission_01,submission_02],ignore_index=False)\n",
    "submission = submission.sort_values(by=['ID'],ascending=True)\n",
    "submission=submission.rename(columns={'pred':'item_cnt_month'})"
   ]
  },
  {
   "cell_type": "code",
   "execution_count": 54,
   "id": "249991cb-0fea-4f9a-8a69-d87fe8948b10",
   "metadata": {},
   "outputs": [
    {
     "data": {
      "text/html": [
       "<div><div id=a7ac05f2-ddd0-48d4-8052-aa53053c9324 style=\"display:none; background-color:#9D6CFF; color:white; width:200px; height:30px; padding-left:5px; border-radius:4px; flex-direction:row; justify-content:space-around; align-items:center;\" onmouseover=\"this.style.backgroundColor='#BA9BF8'\" onmouseout=\"this.style.backgroundColor='#9D6CFF'\" onclick=\"window.commands?.execute('create-mitosheet-from-dataframe-output');\">See Full Dataframe in Mito</div> <script> if (window.commands.hasCommand('create-mitosheet-from-dataframe-output')) document.getElementById('a7ac05f2-ddd0-48d4-8052-aa53053c9324').style.display = 'flex' </script> <table border=\"1\" class=\"dataframe\">\n",
       "  <thead>\n",
       "    <tr style=\"text-align: right;\">\n",
       "      <th></th>\n",
       "      <th>ID</th>\n",
       "      <th>item_cnt_month</th>\n",
       "    </tr>\n",
       "  </thead>\n",
       "  <tbody>\n",
       "    <tr>\n",
       "      <th>0</th>\n",
       "      <td>0</td>\n",
       "      <td>0.532375</td>\n",
       "    </tr>\n",
       "    <tr>\n",
       "      <th>39942</th>\n",
       "      <td>1</td>\n",
       "      <td>0.175809</td>\n",
       "    </tr>\n",
       "    <tr>\n",
       "      <th>10752</th>\n",
       "      <td>2</td>\n",
       "      <td>0.633716</td>\n",
       "    </tr>\n",
       "    <tr>\n",
       "      <th>10794</th>\n",
       "      <td>3</td>\n",
       "      <td>0.172105</td>\n",
       "    </tr>\n",
       "    <tr>\n",
       "      <th>39984</th>\n",
       "      <td>4</td>\n",
       "      <td>0.175809</td>\n",
       "    </tr>\n",
       "  </tbody>\n",
       "</table></div>"
      ],
      "text/plain": [
       "       ID  item_cnt_month\n",
       "0       0        0.532375\n",
       "39942   1        0.175809\n",
       "10752   2        0.633716\n",
       "10794   3        0.172105\n",
       "39984   4        0.175809"
      ]
     },
     "execution_count": 54,
     "metadata": {},
     "output_type": "execute_result"
    }
   ],
   "source": [
    "submission.head()"
   ]
  },
  {
   "cell_type": "code",
   "execution_count": 52,
   "id": "cef8dcae-fe43-4b99-8a69-58e9289145d0",
   "metadata": {},
   "outputs": [],
   "source": [
    "submission.to_csv('submission.csv',index=False)"
   ]
  }
 ],
 "metadata": {
  "kernelspec": {
   "display_name": "Python 3",
   "language": "python",
   "name": "python3"
  },
  "language_info": {
   "codemirror_mode": {
    "name": "ipython",
    "version": 3
   },
   "file_extension": ".py",
   "mimetype": "text/x-python",
   "name": "python",
   "nbconvert_exporter": "python",
   "pygments_lexer": "ipython3",
   "version": "3.8.8"
  }
 },
 "nbformat": 4,
 "nbformat_minor": 5
}
